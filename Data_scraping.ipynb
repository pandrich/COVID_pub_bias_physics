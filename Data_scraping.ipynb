{
 "cells": [
  {
   "cell_type": "code",
   "execution_count": null,
   "metadata": {},
   "outputs": [],
   "source": [
    "import arxivscraper\n",
    "import pandas as pd"
   ]
  },
  {
   "cell_type": "code",
   "execution_count": null,
   "metadata": {},
   "outputs": [],
   "source": [
    "scraper_cond = arxivscraper.Scraper(category='physics:cond-mat', date_from='2012-01-01', date_until='2020-07-01',timeout=10000)\n",
    "output_cond = scraper_cond.scrape()"
   ]
  },
  {
   "cell_type": "code",
   "execution_count": null,
   "metadata": {},
   "outputs": [],
   "source": [
    "scraper_astro = arxivscraper.Scraper(category='physics:astro-ph', date_from='2012-01-01', date_until='2020-07-01',timeout=10000)\n",
    "output_astro = scraper_astro.scrape()\n",
    "dfastro = pd.DataFrame(output_astro,columns=cols)"
   ]
  },
  {
   "cell_type": "code",
   "execution_count": null,
   "metadata": {},
   "outputs": [],
   "source": [
    "cols = ('categories', 'created', 'authors')\n",
    "\n",
    "dfcond = pd.DataFrame(output_cond,columns=cols)\n",
    "dfcond.to_csv('Data/arxiv_cond_2012_2020.csv',index=False)\n",
    "dfastro = pd.DataFrame(output_astro,columns=cols)\n",
    "dfastro.to_csv('Data/arxiv_astro_2012_2020.csv',index=False)"
   ]
  }
 ],
 "metadata": {
  "kernelspec": {
   "display_name": "Python 3",
   "language": "python",
   "name": "python3"
  },
  "language_info": {
   "codemirror_mode": {
    "name": "ipython",
    "version": 3
   },
   "file_extension": ".py",
   "mimetype": "text/x-python",
   "name": "python",
   "nbconvert_exporter": "python",
   "pygments_lexer": "ipython3",
   "version": "3.7.6"
  }
 },
 "nbformat": 4,
 "nbformat_minor": 2
}
